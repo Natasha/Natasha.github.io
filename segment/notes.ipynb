{
 "cells": [
  {
   "cell_type": "markdown",
   "metadata": {},
   "source": [
    "# table"
   ]
  },
  {
   "cell_type": "code",
   "execution_count": null,
   "metadata": {},
   "outputs": [],
   "source": [
    "# def mean(items):\n",
    "#     return sum(items) / len(items)\n",
    "\n",
    "\n",
    "# text = '''re.split([.?!…])\t114\t0.9\t53\t0.6\t63\t0.7\t130\t1.0\n",
    "# segtok.split_single\t106\t17.8\t36\t13.4\t1001\t1.1\t912\t2.8\n",
    "# mosestokenizer\t238\t8.9\t182\t5.7\t80\t6.4\t287\t7.4\n",
    "# nltk.sent_tokenize\t92\t10.1\t36\t5.3\t44\t5.6\t183\t8.9\n",
    "# deeppavlov/rusenttokenize\t57\t10.9\t10\t7.9\t56\t6.8\t119\t7.0\n",
    "# razdel.sentenize\t52\t6.1\t7\t3.9\t72\t4.5\t59\t7.5'''\n",
    "# data = {}\n",
    "# for line in text.splitlines():\n",
    "#     parts = line.split()\n",
    "#     name = parts[0]\n",
    "#     errors = [int(parts[_]) for _ in [1, 3, 5]]\n",
    "#     times = [float(parts[_]) for _ in [2, 4, 6]]\n",
    "#     data[name] = {\n",
    "#         'error': int(mean(errors)),\n",
    "#         'time': '%.1f' % mean(times)\n",
    "#     }\n",
    "    \n",
    "# import pandas as pd\n",
    "# table = pd.DataFrame(data).T\n",
    "# print(table.to_html())"
   ]
  },
  {
   "cell_type": "markdown",
   "metadata": {},
   "source": [
    "# examples"
   ]
  },
  {
   "cell_type": "code",
   "execution_count": null,
   "metadata": {},
   "outputs": [],
   "source": [
    "# gzcat data/segment/sent/dataset/corpora.jl.gz | razdel-ctl sample 1000 --seed 2 | razdel-ctl gen | razdel-ctl diff --show dot_sentenize | less"
   ]
  },
  {
   "cell_type": "markdown",
   "metadata": {},
   "source": [
    "# algo"
   ]
  },
  {
   "cell_type": "code",
   "execution_count": null,
   "metadata": {},
   "outputs": [],
   "source": [
    "%load_ext autoreload\n",
    "%autoreload 2"
   ]
  },
  {
   "cell_type": "code",
   "execution_count": null,
   "metadata": {},
   "outputs": [],
   "source": [
    "from tqdm.notebook import tqdm as log_progress\n",
    "\n",
    "from naeval.io import load_gz_lines\n",
    "from naeval.segment.partition import (\n",
    "    parse_partitions,\n",
    "    show_partition\n",
    ")\n",
    "\n",
    "path = '/Users/alexkuk/proj/naeval/data/segment/sent/dataset/corpora.jl.gz'\n",
    "lines = load_gz_lines(path)\n",
    "records = list(parse_partitions(lines))"
   ]
  },
  {
   "cell_type": "code",
   "execution_count": null,
   "metadata": {},
   "outputs": [],
   "source": [
    "from razdel.segmenters.sentenize import SentSegmenter\n",
    "from naeval.segment.partition import Partition\n",
    "\n",
    "\n",
    "sentenize = SentSegmenter()\n",
    "\n",
    "data = []\n",
    "for record in records:\n",
    "    text = record.text\n",
    "    sents = list(sentenize(text))\n",
    "    \n",
    "    names = {_.name for _ in sentenize._rules}\n",
    "    data.append([-len(names), len(text), text])\n",
    "    sentenize._rules = []"
   ]
  },
  {
   "cell_type": "code",
   "execution_count": null,
   "metadata": {
    "scrolled": false
   },
   "outputs": [],
   "source": [
    "sorted(data)[:2]"
   ]
  },
  {
   "cell_type": "code",
   "execution_count": null,
   "metadata": {
    "scrolled": false
   },
   "outputs": [],
   "source": [
    "\n",
    "text = ''' \n",
    "6. Наиболее частый и при этом высоко оцененный вариант ответов «я рада» (13 высказываний, 25 баллов) – ситуации получения одобрения и поощрения.\n",
    "7. Примечательно, что в ответе «я знаю» оценен как максимально стереотипный, но лишь раз встречается ответ «я женщина»; присутствуют высказывания «один брак – это всё, что меня ждет в этой жизни» и «рано или поздно придется рожать».\n",
    "Составители: В. П. Головин, Ф. В. Заничев, А. Л. Расторгуев, Р. В. Савко, И. И. Тучков.\n",
    "'''\n",
    "list(sentenize(text));\n",
    "print(len({_.name for _ in sentenize._rules}))\n",
    "sentenize._rules = []\n"
   ]
  },
  {
   "cell_type": "code",
   "execution_count": null,
   "metadata": {},
   "outputs": [],
   "source": [
    "sentenize = SentSegmenter(rules=[])\n",
    "sents = list(sentenize(text))\n",
    "part = Partition.from_substrings(sents)\n",
    "show_partition(part)"
   ]
  },
  {
   "cell_type": "code",
   "execution_count": null,
   "metadata": {},
   "outputs": [],
   "source": [
    "from razdel.segmenters.sentenize import DebugSentSegmenter\n",
    "\n",
    "sentenize = DebugSentSegmenter()\n",
    "list(sentenize(text))"
   ]
  },
  {
   "cell_type": "code",
   "execution_count": null,
   "metadata": {},
   "outputs": [],
   "source": [
    "import re\n",
    "re.findall(r'[а-яё-]+|[0-9]+|[^а-яё0-9\\s]', 'Головин-123, 1.123 Ф. В. Заничев, ...', re.I)"
   ]
  },
  {
   "cell_type": "code",
   "execution_count": null,
   "metadata": {},
   "outputs": [],
   "source": []
  }
 ],
 "metadata": {
  "kernelspec": {
   "display_name": "Python 3",
   "language": "python",
   "name": "python3"
  },
  "language_info": {
   "codemirror_mode": {
    "name": "ipython",
    "version": 3
   },
   "file_extension": ".py",
   "mimetype": "text/x-python",
   "name": "python",
   "nbconvert_exporter": "python",
   "pygments_lexer": "ipython3",
   "version": "3.6.9"
  }
 },
 "nbformat": 4,
 "nbformat_minor": 2
}
